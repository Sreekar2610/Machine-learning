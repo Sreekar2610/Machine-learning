{
 "cells": [
  {
   "cell_type": "code",
   "execution_count": null,
   "id": "2ae7744b",
   "metadata": {},
   "outputs": [],
   "source": [
    "a=int(input(\"enter a number:\"))\n",
    "print(a)"
   ]
  },
  {
   "cell_type": "code",
   "execution_count": null,
   "id": "ed3c38d1",
   "metadata": {},
   "outputs": [],
   "source": [
    "import random\n",
    "random.seed(a=None, version=2)"
   ]
  },
  {
   "cell_type": "code",
   "execution_count": 3,
   "id": "52f69960",
   "metadata": {},
   "outputs": [],
   "source": [
    "from collections import defaultdict\n",
    "words=[\"apple\",\"ball\",\"app\",\"cat\",\"bat\"]\n",
    "by_letter = defaultdict(list)\n",
    "for word in words:\n",
    "    by_letter[word[0]].append(word)"
   ]
  },
  {
   "cell_type": "code",
   "execution_count": 4,
   "id": "b3262705",
   "metadata": {},
   "outputs": [
    {
     "data": {
      "text/plain": [
       "defaultdict(list, {'a': ['apple', 'app'], 'b': ['ball', 'bat'], 'c': ['cat']})"
      ]
     },
     "execution_count": 4,
     "metadata": {},
     "output_type": "execute_result"
    }
   ],
   "source": [
    "by_letter"
   ]
  },
  {
   "cell_type": "code",
   "execution_count": 1,
   "id": "cf18f843",
   "metadata": {},
   "outputs": [],
   "source": [
    "##18-02-25 Build models using linear regression and logistic regression "
   ]
  },
  {
   "cell_type": "code",
   "execution_count": 2,
   "id": "9b69014c",
   "metadata": {},
   "outputs": [],
   "source": [
    "import numpy as np"
   ]
  },
  {
   "cell_type": "code",
   "execution_count": 3,
   "id": "28efcbbb",
   "metadata": {},
   "outputs": [],
   "source": [
    "import pandas as pd"
   ]
  },
  {
   "cell_type": "code",
   "execution_count": 4,
   "id": "711d8a4c",
   "metadata": {},
   "outputs": [],
   "source": [
    "import matplotlib.pyplot as plt"
   ]
  },
  {
   "cell_type": "code",
   "execution_count": 6,
   "id": "76b9763b",
   "metadata": {},
   "outputs": [],
   "source": [
    "import statsmodels.api as sm"
   ]
  },
  {
   "cell_type": "code",
   "execution_count": 7,
   "id": "be0e072b",
   "metadata": {},
   "outputs": [],
   "source": [
    "x=[1,2,3,4,5]\n",
    "y=[1,1,2,2,4]"
   ]
  },
  {
   "cell_type": "code",
   "execution_count": 17,
   "id": "f1fd9f01",
   "metadata": {},
   "outputs": [
    {
     "data": {
      "image/png": "[encoded data removed]",
      "text/plain": [
       "<Figure size 640x480 with 1 Axes>"
      ]
     },
     "metadata": {},
     "output_type": "display_data"
    },
    {
     "data": {
      "text/plain": [
       "(Text(0.5, 24.0, 'Advertising Cost'),\n",
       " Text(24.000000000000007, 0.5, 'sales'),\n",
       " None)"
      ]
     },
     "execution_count": 17,
     "metadata": {},
     "output_type": "execute_result"
    }
   ],
   "source": [
    "plt.scatter(x,y)\n",
    "plt.xlabel(\"Advertising Cost\"),plt.ylabel(\"sales\"),plt.show()"
   ]
  },
  {
   "cell_type": "code",
   "execution_count": 13,
   "id": "00f7d4b8",
   "metadata": {},
   "outputs": [
    {
     "name": "stderr",
     "output_type": "stream",
     "text": [
      "C:\\ProgramData\\anaconda3\\Lib\\site-packages\\statsmodels\\stats\\stattools.py:74: ValueWarning: omni_normtest is not valid with less than 8 observations; 5 samples were given.\n",
      "  warn(\"omni_normtest is not valid with less than 8 observations; %i \"\n"
     ]
    },
    {
     "data": {
      "text/html": [
       "<table class=\"simpletable\">\n",
       "<caption>OLS Regression Results</caption>\n",
       "<tr>\n",
       "  <th>Dep. Variable:</th>            <td>y</td>        <th>  R-squared:         </th> <td>   0.817</td>\n",
       "</tr>\n",
       "<tr>\n",
       "  <th>Model:</th>                   <td>OLS</td>       <th>  Adj. R-squared:    </th> <td>   0.756</td>\n",
       "</tr>\n",
       "<tr>\n",
       "  <th>Method:</th>             <td>Least Squares</td>  <th>  F-statistic:       </th> <td>   13.36</td>\n",
       "</tr>\n",
       "<tr>\n",
       "  <th>Date:</th>             <td>Tue, 18 Feb 2025</td> <th>  Prob (F-statistic):</th>  <td>0.0354</td> \n",
       "</tr>\n",
       "<tr>\n",
       "  <th>Time:</th>                 <td>10:12:49</td>     <th>  Log-Likelihood:    </th> <td> -3.3094</td>\n",
       "</tr>\n",
       "<tr>\n",
       "  <th>No. Observations:</th>      <td>     5</td>      <th>  AIC:               </th> <td>   10.62</td>\n",
       "</tr>\n",
       "<tr>\n",
       "  <th>Df Residuals:</th>          <td>     3</td>      <th>  BIC:               </th> <td>   9.838</td>\n",
       "</tr>\n",
       "<tr>\n",
       "  <th>Df Model:</th>              <td>     1</td>      <th>                     </th>     <td> </td>   \n",
       "</tr>\n",
       "<tr>\n",
       "  <th>Covariance Type:</th>      <td>nonrobust</td>    <th>                     </th>     <td> </td>   \n",
       "</tr>\n",
       "</table>\n",
       "<table class=\"simpletable\">\n",
       "<tr>\n",
       "    <td></td>       <th>coef</th>     <th>std err</th>      <th>t</th>      <th>P>|t|</th>  <th>[0.025</th>    <th>0.975]</th>  \n",
       "</tr>\n",
       "<tr>\n",
       "  <th>const</th> <td>   -0.1000</td> <td>    0.635</td> <td>   -0.157</td> <td> 0.885</td> <td>   -2.121</td> <td>    1.921</td>\n",
       "</tr>\n",
       "<tr>\n",
       "  <th>x1</th>    <td>    0.7000</td> <td>    0.191</td> <td>    3.656</td> <td> 0.035</td> <td>    0.091</td> <td>    1.309</td>\n",
       "</tr>\n",
       "</table>\n",
       "<table class=\"simpletable\">\n",
       "<tr>\n",
       "  <th>Omnibus:</th>       <td>   nan</td> <th>  Durbin-Watson:     </th> <td>   2.509</td>\n",
       "</tr>\n",
       "<tr>\n",
       "  <th>Prob(Omnibus):</th> <td>   nan</td> <th>  Jarque-Bera (JB):  </th> <td>   0.396</td>\n",
       "</tr>\n",
       "<tr>\n",
       "  <th>Skew:</th>          <td>-0.174</td> <th>  Prob(JB):          </th> <td>   0.821</td>\n",
       "</tr>\n",
       "<tr>\n",
       "  <th>Kurtosis:</th>      <td> 1.667</td> <th>  Cond. No.          </th> <td>    8.37</td>\n",
       "</tr>\n",
       "</table><br/><br/>Notes:<br/>[1] Standard Errors assume that the covariance matrix of the errors is correctly specified."
      ],
      "text/latex": [
       "\\begin{center}\n",
       "\\begin{tabular}{lclc}\n",
       "\\toprule\n",
       "\\textbf{Dep. Variable:}    &        y         & \\textbf{  R-squared:         } &     0.817   \\\\\n",
       "\\textbf{Model:}            &       OLS        & \\textbf{  Adj. R-squared:    } &     0.756   \\\\\n",
       "\\textbf{Method:}           &  Least Squares   & \\textbf{  F-statistic:       } &     13.36   \\\\\n",
       "\\textbf{Date:}             & Tue, 18 Feb 2025 & \\textbf{  Prob (F-statistic):} &   0.0354    \\\\\n",
       "\\textbf{Time:}             &     10:12:49     & \\textbf{  Log-Likelihood:    } &   -3.3094   \\\\\n",
       "\\textbf{No. Observations:} &           5      & \\textbf{  AIC:               } &     10.62   \\\\\n",
       "\\textbf{Df Residuals:}     &           3      & \\textbf{  BIC:               } &     9.838   \\\\\n",
       "\\textbf{Df Model:}         &           1      & \\textbf{                     } &             \\\\\n",
       "\\textbf{Covariance Type:}  &    nonrobust     & \\textbf{                     } &             \\\\\n",
       "\\bottomrule\n",
       "\\end{tabular}\n",
       "\\begin{tabular}{lcccccc}\n",
       "               & \\textbf{coef} & \\textbf{std err} & \\textbf{t} & \\textbf{P$> |$t$|$} & \\textbf{[0.025} & \\textbf{0.975]}  \\\\\n",
       "\\midrule\n",
       "\\textbf{const} &      -0.1000  &        0.635     &    -0.157  &         0.885        &       -2.121    &        1.921     \\\\\n",
       "\\textbf{x1}    &       0.7000  &        0.191     &     3.656  &         0.035        &        0.091    &        1.309     \\\\\n",
       "\\bottomrule\n",
       "\\end{tabular}\n",
       "\\begin{tabular}{lclc}\n",
       "\\textbf{Omnibus:}       &    nan & \\textbf{  Durbin-Watson:     } &    2.509  \\\\\n",
       "\\textbf{Prob(Omnibus):} &    nan & \\textbf{  Jarque-Bera (JB):  } &    0.396  \\\\\n",
       "\\textbf{Skew:}          & -0.174 & \\textbf{  Prob(JB):          } &    0.821  \\\\\n",
       "\\textbf{Kurtosis:}      &  1.667 & \\textbf{  Cond. No.          } &     8.37  \\\\\n",
       "\\bottomrule\n",
       "\\end{tabular}\n",
       "%\\caption{OLS Regression Results}\n",
       "\\end{center}\n",
       "\n",
       "Notes: \\newline\n",
       " [1] Standard Errors assume that the covariance matrix of the errors is correctly specified."
      ],
      "text/plain": [
       "<class 'statsmodels.iolib.summary.Summary'>\n",
       "\"\"\"\n",
       "                            OLS Regression Results                            \n",
       "==============================================================================\n",
       "Dep. Variable:                      y   R-squared:                       0.817\n",
       "Model:                            OLS   Adj. R-squared:                  0.756\n",
       "Method:                 Least Squares   F-statistic:                     13.36\n",
       "Date:                Tue, 18 Feb 2025   Prob (F-statistic):             0.0354\n",
       "Time:                        10:12:49   Log-Likelihood:                -3.3094\n",
       "No. Observations:                   5   AIC:                             10.62\n",
       "Df Residuals:                       3   BIC:                             9.838\n",
       "Df Model:                           1                                         \n",
       "Covariance Type:            nonrobust                                         \n",
       "==============================================================================\n",
       "                 coef    std err          t      P>|t|      [0.025      0.975]\n",
       "------------------------------------------------------------------------------\n",
       "const         -0.1000      0.635     -0.157      0.885      -2.121       1.921\n",
       "x1             0.7000      0.191      3.656      0.035       0.091       1.309\n",
       "==============================================================================\n",
       "Omnibus:                          nan   Durbin-Watson:                   2.509\n",
       "Prob(Omnibus):                    nan   Jarque-Bera (JB):                0.396\n",
       "Skew:                          -0.174   Prob(JB):                        0.821\n",
       "Kurtosis:                       1.667   Cond. No.                         8.37\n",
       "==============================================================================\n",
       "\n",
       "Notes:\n",
       "[1] Standard Errors assume that the covariance matrix of the errors is correctly specified.\n",
       "\"\"\""
      ]
     },
     "execution_count": 13,
     "metadata": {},
     "output_type": "execute_result"
    }
   ],
   "source": [
    "x1=sm.add_constant(x)\n",
    "results=sm.OLS(y,x1).fit()\n",
    "results.summary()"
   ]
  },
  {
   "cell_type": "code",
   "execution_count": 14,
   "id": "f7613e6c",
   "metadata": {},
   "outputs": [
    {
     "name": "stdout",
     "output_type": "stream",
     "text": [
      "0.7\n",
      "-0.1\n",
      "[0.6, 1.2999999999999998, 1.9999999999999996, 2.6999999999999997, 3.4]\n"
     ]
    }
   ],
   "source": [
    "slope=0.7\n",
    "intercept=-0.1\n",
    "def myfunction(x):\n",
    "    return slope*x+intercept\n",
    "mymodel=list(map(myfunction,x))\n",
    "print(slope)\n",
    "print(intercept)\n",
    "print(mymodel)"
   ]
  },
  {
   "cell_type": "code",
   "execution_count": 16,
   "id": "2d07fc94",
   "metadata": {},
   "outputs": [
    {
     "data": {
      "image/png": "[encoded data removed]",
      "text/plain": [
       "<Figure size 640x480 with 1 Axes>"
      ]
     },
     "metadata": {},
     "output_type": "display_data"
    }
   ],
   "source": [
    "plt.scatter(x,y)\n",
    "fig=plt.plot(x,mymodel,lw=1)\n",
    "plt.xlabel(\"Advertising Cost\")\n",
    "plt.ylabel(\"sales\")\n",
    "plt.show()"
   ]
  },
  {
   "cell_type": "code",
   "execution_count": 19,
   "id": "55f27b54",
   "metadata": {},
   "outputs": [],
   "source": [
    "import matplotlib.pyplot as plt\n",
    "from scipy import stats"
   ]
  },
  {
   "cell_type": "code",
   "execution_count": 20,
   "id": "e3b30f9a",
   "metadata": {},
   "outputs": [
    {
     "data": {
      "image/png": "[encoded data removed]",
      "text/plain": [
       "<Figure size 640x480 with 1 Axes>"
      ]
     },
     "metadata": {},
     "output_type": "display_data"
    },
    {
     "data": {
      "text/plain": [
       "(Text(0.5, 24.0, 'Number of tea drunk'),\n",
       " Text(24.000000000000014, 0.5, 'intelligenxe Quotient'),\n",
       " None)"
      ]
     },
     "execution_count": 20,
     "metadata": {},
     "output_type": "execute_result"
    }
   ],
   "source": [
    "x=[89,43,36,36,96,10,66,34,38,20,26,29,48,64,6,5,36,66,72,40]\n",
    "y=[21,46,3,35,67,95,53,72,58,10,26,34,90,33,38,20,56,2,47,15]\n",
    "plt.scatter(x,y)\n",
    "plt.xlabel(\"Number of tea drunk\"),plt.ylabel(\"intelligenxe Quotient\"),plt.show()"
   ]
  },
  {
   "cell_type": "code",
   "execution_count": 23,
   "id": "6582fee6",
   "metadata": {},
   "outputs": [
    {
     "name": "stdout",
     "output_type": "stream",
     "text": [
      "0.015880654475457164\n",
      "40.367131857555336\n"
     ]
    },
    {
     "data": {
      "image/png": "[encoded data removed]",
      "text/plain": [
       "<Figure size 640x480 with 1 Axes>"
      ]
     },
     "metadata": {},
     "output_type": "display_data"
    },
    {
     "data": {
      "text/plain": [
       "(Text(24.000000000000007, 0.5, 'resale value'),\n",
       " Text(0.5, 4.444444444444445, ''),\n",
       " None)"
      ]
     },
     "execution_count": 23,
     "metadata": {},
     "output_type": "execute_result"
    }
   ],
   "source": [
    "slope,intercept,r,p,std_err=stats.linregress(x,y)\n",
    "def myfunc(x):\n",
    "    return slope*x+intercept\n",
    "mymodel=list(map(myfunc,x))\n",
    "print(slope)\n",
    "print(intercept)\n",
    "plt.scatter(x,y)\n",
    "plt.plot(x,mymodel,lw=1,c='red')\n",
    "plt.ylabel(\"resale value\"),plt.xlabel(\"\"),plt.show()"
   ]
  },
  {
   "cell_type": "code",
   "execution_count": 24,
   "id": "a373fc34",
   "metadata": {},
   "outputs": [
    {
     "name": "stdout",
     "output_type": "stream",
     "text": [
      "LinregressResult(slope=0.015880654475457164, intercept=40.367131857555336, rvalue=0.015262188006924087, pvalue=0.9490792702092683, stderr=0.2452250083852032, intercept_stderr=12.19338047602271)\n"
     ]
    }
   ],
   "source": [
    "print(stats.linregress(x,y))"
   ]
  },
  {
   "cell_type": "code",
   "execution_count": null,
   "id": "f31dd767",
   "metadata": {},
   "outputs": [],
   "source": []
  }
 ],
 "metadata": {
  "kernelspec": {
   "display_name": "Python 3 (ipykernel)",
   "language": "python",
   "name": "python3"
  },
  "language_info": {
   "codemirror_mode": {
    "name": "ipython",
    "version": 3
   },
   "file_extension": ".py",
   "mimetype": "text/x-python",
   "name": "python",
   "nbconvert_exporter": "python",
   "pygments_lexer": "ipython3",
   "version": "3.11.4"
  }
 },
 "nbformat": 4,
 "nbformat_minor": 5
}
